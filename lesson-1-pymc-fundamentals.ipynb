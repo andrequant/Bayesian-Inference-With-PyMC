{
 "cells": [
  {
   "cell_type": "markdown",
   "id": "6dd6fe2f",
   "metadata": {},
   "source": [
    "# Lesson 1 PyMC Fundamentals and Model Setup"
   ]
  },
  {
   "cell_type": "code",
   "execution_count": 1,
   "id": "272140ca",
   "metadata": {},
   "outputs": [
    {
     "name": "stderr",
     "output_type": "stream",
     "text": [
      "WARNING (pytensor.configdefaults): g++ not available, if using conda: `conda install gxx`\n",
      "WARNING (pytensor.configdefaults): g++ not detected!  PyTensor will be unable to compile C-implementations and will default to Python. Performance may be severely degraded. To remove this warning, set PyTensor flags cxx to an empty string.\n"
     ]
    }
   ],
   "source": [
    "import pymc as pm\n",
    "import numpy as np\n",
    "import matplotlib.pyplot as plt\n",
    "import arviz as az"
   ]
  },
  {
   "cell_type": "code",
   "execution_count": 2,
   "id": "fe179a10",
   "metadata": {},
   "outputs": [],
   "source": [
    "data = [1, -2, 3]"
   ]
  },
  {
   "cell_type": "markdown",
   "id": "8b8879b4",
   "metadata": {},
   "source": [
    "### Basic Model Structure"
   ]
  },
  {
   "cell_type": "code",
   "execution_count": 4,
   "id": "780c68dc",
   "metadata": {},
   "outputs": [
    {
     "name": "stderr",
     "output_type": "stream",
     "text": [
      "Initializing NUTS using jitter+adapt_diag...\n",
      "Multiprocess sampling (4 chains in 4 jobs)\n",
      "NUTS: [parameter]\n"
     ]
    },
    {
     "data": {
      "application/vnd.jupyter.widget-view+json": {
       "model_id": "2d62bb7f94c74a8ea7d9f72b8a97205b",
       "version_major": 2,
       "version_minor": 0
      },
      "text/plain": [
       "Output()"
      ]
     },
     "metadata": {},
     "output_type": "display_data"
    },
    {
     "data": {
      "text/html": [
       "<pre style=\"white-space:pre;overflow-x:auto;line-height:normal;font-family:Menlo,'DejaVu Sans Mono',consolas,'Courier New',monospace\"></pre>\n"
      ],
      "text/plain": []
     },
     "metadata": {},
     "output_type": "display_data"
    },
    {
     "name": "stderr",
     "output_type": "stream",
     "text": [
      "Sampling 4 chains for 1_000 tune and 1_000 draw iterations (4_000 + 4_000 draws total) took 21 seconds.\n"
     ]
    }
   ],
   "source": [
    "# Basic model template\n",
    "\n",
    "with pm.Model() as model:\n",
    "    # Define priors\n",
    "    parameter = pm.Normal('parameter', mu=0, sigma=1)\n",
    "\n",
    "    # Define likelihood\n",
    "    obs = pm.Normal('obs', mu=parameter, sigma=1, observed=data)\n",
    "\n",
    "    # Sample from posterior\n",
    "\n",
    "    trace = pm.sample(1000, return_inferencedata=True)"
   ]
  },
  {
   "cell_type": "markdown",
   "id": "d552d609",
   "metadata": {},
   "source": [
    "### Simple Linear Regression"
   ]
  },
  {
   "cell_type": "code",
   "execution_count": 6,
   "id": "badef894",
   "metadata": {},
   "outputs": [],
   "source": [
    "# Set random\n",
    "np.random.seed(42)"
   ]
  },
  {
   "cell_type": "code",
   "execution_count": 7,
   "id": "b4a80ad5",
   "metadata": {},
   "outputs": [],
   "source": [
    "# Generate synthetic data\n",
    "n_points = 100\n",
    "true_slope = 2.5\n",
    "true_intercept = 1\n",
    "true_sigma = 0.5\n",
    "\n",
    "x = np.linspace(0, 10, n_points)\n",
    "y = true_intercept + true_slope * x + np.random.normal(0, true_sigma, n_points)"
   ]
  },
  {
   "cell_type": "code",
   "execution_count": null,
   "id": "a010fb4e",
   "metadata": {},
   "outputs": [],
   "source": [
    "# Build Bayesian linear regression model\n",
    "\n",
    "with pm.Model() as linear_model:\n",
    "    # Priors\n",
    "    intercept = pm.Normal('intercept', mu=0, sigma=10)\n",
    "    slope = pm.Normal('slope', mu=0, sigma=10)\n",
    "    sigma = pm.HalfFlat"
   ]
  }
 ],
 "metadata": {
  "kernelspec": {
   "display_name": "Python 3",
   "language": "python",
   "name": "python3"
  },
  "language_info": {
   "codemirror_mode": {
    "name": "ipython",
    "version": 3
   },
   "file_extension": ".py",
   "mimetype": "text/x-python",
   "name": "python",
   "nbconvert_exporter": "python",
   "pygments_lexer": "ipython3",
   "version": "3.11.9"
  }
 },
 "nbformat": 4,
 "nbformat_minor": 5
}
